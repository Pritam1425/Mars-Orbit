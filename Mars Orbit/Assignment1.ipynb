{
  "nbformat": 4,
  "nbformat_minor": 0,
  "metadata": {
    "colab": {
      "provenance": [],
      "collapsed_sections": []
    },
    "kernelspec": {
      "name": "python3",
      "display_name": "Python 3"
    },
    "language_info": {
      "name": "python"
    }
  },
  "cells": [
    {
      "cell_type": "markdown",
      "metadata": {
        "id": "view-in-github"
      },
      "source": [
        "<a href=\"https://colab.research.google.com/github/AdarshShah/Mars-Tycho-Brahe-Kepler/blob/main/Assignment1.ipynb\" target=\"_parent\"><img src=\"https://colab.research.google.com/assets/colab-badge.svg\" alt=\"Open In Colab\"/></a>"
      ]
    },
    {
      "cell_type": "markdown",
      "metadata": {
        "id": "ZpdB2yTboQCr"
      },
      "source": [
        "# Mars Orbit\n",
        "Author : Adarsh Shah\n",
        "\n",
        "Date : 18th Aug, 2021 "
      ]
    },
    {
      "cell_type": "code",
      "metadata": {
        "id": "99LbmedAlabO"
      },
      "source": [
        "import numpy as np\n",
        "from matplotlib import pyplot as plt\n",
        "import pandas as pd\n",
        "from math import radians, cos, sin, tan, sqrt, fmod, atan, degrees\n",
        "import datetime\n",
        "from scipy import optimize as op"
      ],
      "execution_count": 289,
      "outputs": []
    },
    {
      "cell_type": "markdown",
      "metadata": {
        "id": "L78R-Jtmou77"
      },
      "source": [
        "# Data Preparation"
      ]
    },
    {
      "cell_type": "code",
      "metadata": {
        "id": "ksiAoidgraJh"
      },
      "source": [
        "# Orbit Center in degrees\n",
        "c = 120\n",
        "# Orbit radius\n",
        "r = 10\n",
        "# Equant Center\n",
        "e1 = 1\n",
        "e2 = 93\n",
        "# Equant 0 in degrees\n",
        "z = 57\n",
        "# Mars angular velocity in degrees per day\n",
        "s = 360/687\n",
        "# Data Path\n",
        "path = \"/content/01_data_mars_opposition_updated.csv\""
      ],
      "execution_count": 387,
      "outputs": []
    },
    {
      "cell_type": "code",
      "metadata": {
        "id": "_fmV0tM-m99a",
        "cellView": "code"
      },
      "source": [
        "data = pd.read_csv(path)\n",
        " \n",
        "lg = np.array(data['ZodiacIndex']*30 + data['Degree'] + data['Minute']/60 + data['Second']/3600)\n",
        "elg = [ 0 ]\n",
        "for i in range(1,12):\n",
        "  d1 = datetime.datetime(data['Year'][i],data['Month'][i],data['Day'][i],data['Hour'][i],data['Minute.1'][i])\n",
        "  d2 = datetime.datetime(data['Year'][i-1],data['Month'][i-1],data['Day'][i-1],data['Hour'][i-1],data['Minute.1'][i-1])\n",
        "  ddelta = d1-d2\n",
        "  elg += [elg[-1]+ddelta.days+ddelta.seconds/(3600*24)]\n",
        "elg = np.array(elg)\n",
        " \n",
        "elg.resize((12,1))\n",
        "lg.resize(12,1)\n",
        "oppositions=np.append(lg,elg,axis=1)"
      ],
      "execution_count": 293,
      "outputs": []
    },
    {
      "cell_type": "markdown",
      "metadata": {
        "id": "dyxQRM21WJGz"
      },
      "source": [
        "# Utils"
      ]
    },
    {
      "cell_type": "code",
      "metadata": {
        "id": "z4IuNkAMhGlA"
      },
      "source": [
        "# Equant Polar to co-ordinate\n",
        "def p2c(e1,e2):\n",
        "  x = e1*cos(radians(fmod(e2+z,360)))\n",
        "  y = e1*sin(radians(fmod(e2+z,360)))\n",
        "  return x,y"
      ],
      "execution_count": 294,
      "outputs": []
    },
    {
      "cell_type": "code",
      "metadata": {
        "id": "lp-SHm8whLXb"
      },
      "source": [
        "# Equant Co-ordinate to Polar\n",
        "def c2p(x,y):\n",
        "  e1 = sqrt(x**2+y**2)\n",
        "  e2 = degrees(atan(y/x))\n",
        "  return e1,e2"
      ],
      "execution_count": 295,
      "outputs": []
    },
    {
      "cell_type": "code",
      "metadata": {
        "id": "dTC0khVhNNK8"
      },
      "source": [
        "# Intersection of Latitude and orbit.\n",
        "def intersect(e1,e2,m,c,r):\n",
        "    f = lambda x : [(x[0]-cos(radians(c)))**2 + (x[1]-sin(radians(c)))**2 - r**2,tan(radians(m))*(e1-x[0])-(e2-x[1])]\n",
        "    res = op.fsolve(func=f,x0=[e1+2*r*cos(radians(m)),e2+2*r*sin(radians(m))])\n",
        "    return res"
      ],
      "execution_count": 296,
      "outputs": []
    },
    {
      "cell_type": "code",
      "source": [
        "def quad(e1,e2,m,c,r):\n",
        "  cx = np.cos(np.radians(c))\n",
        "  cy = np.sin(np.radians(c))\n",
        "\n",
        "  tn = np.tan(np.radians(m))\n",
        "\n",
        "  a = (1 + tn ** 2)\n",
        "  b = -2 * cx + 2 * tn * (e2 - cy - e1 * tn)\n",
        "  c = (e2 - cy - e1 * tn) ** 2 + cx ** 2 - r ** 2\n",
        "\n",
        "  discrm = np.sqrt(b ** 2 - 4 * a * c)\n",
        "\n",
        "  x1 = (-b - discrm) / (2 * a)\n",
        "  x2 = (-b + discrm) / (2 * a)\n",
        "\n",
        "  y1 = e2 + (x1 - e1) * tn\n",
        "  y2 = e2 + (x2 - e1) * tn\n",
        "\n",
        "  if 0 <= m <= 90 or 270 <= m <= 360:\n",
        "      X_circle = x1 if x1 >= 0 else x2\n",
        "      Y_circle = y1 if x1 >= 0 else y2\n",
        "  else:\n",
        "      X_circle = x1 if x1 <= 0 else x2\n",
        "      Y_circle = y1 if x1 <= 0 else y2\n",
        "  \n",
        "  return X_circle,Y_circle"
      ],
      "metadata": {
        "id": "-CF2bNcJSo-4"
      },
      "execution_count": 388,
      "outputs": []
    },
    {
      "cell_type": "code",
      "metadata": {
        "id": "CwGoJPCtL0nE"
      },
      "source": [
        "# Distance between two co-ordinates.\n",
        "def distance(x,y):\n",
        "  return sqrt((y[0]-x[0])**2+(y[1]-x[1])**2)"
      ],
      "execution_count": 202,
      "outputs": []
    },
    {
      "cell_type": "code",
      "metadata": {
        "id": "3tSXOKYNdJZM"
      },
      "source": [
        "# Plot\n",
        "def plot(c,r,e1,e2,z,s,oppositions):\n",
        "  plt.scatter(cos(radians(c)),sin(radians(c)),c='r')\n",
        "  plt.scatter(e1,e2,c='b')\n",
        "  plt.scatter(0,0,c='g')\n",
        "  \n",
        "  for o in oppositions[:,0]:\n",
        "    plt.arrow(0,0,1.5*r*cos(radians(o)),1.5*r*sin(radians(o)),ls='-')\n",
        "    x,y = quad(0,0,o,c,r)\n",
        "    plt.scatter(x,y)\n",
        "\n",
        "  for o in oppositions[:,1]:\n",
        "    m = fmod(o*s+z,360)\n",
        "    ex = e1*np.cos(radians(e2+z))\n",
        "    ey = e1*np.sin(radians(e2+z))\n",
        "    plt.arrow(ex,ey,1.5*r*cos(radians(m)),1.5*r*sin(radians(m)),ls=':')\n",
        "    \n",
        "    x,y = quad(ex,ey,m,c,r)\n",
        "    plt.scatter(x,y)\n",
        "\n",
        "  x = np.radians(np.arange(0,360))\n",
        "  plt.plot(cos(radians(c))+r*np.cos(x),sin(radians(c))+r*np.sin(x))\n"
      ],
      "execution_count": 389,
      "outputs": []
    },
    {
      "cell_type": "code",
      "source": [
        "def PlotOut(oppositionsf, zf, cf, rf, e1f, e2f,sf):\n",
        "    oppositionsf = np.array(oppositionsf).T\n",
        "    T = 360/sf\n",
        "    C_dis = 1\n",
        "    cx = C_dis * np.cos(np.radians(cf))\n",
        "    cy = C_dis * np.sin(np.radians(cf))\n",
        "    xp = np.linspace(0, rf+3, 200)\n",
        "    xn = np.linspace(-(rf+3), 0, 200)\n",
        "    ex = e1f * np.cos(np.radians(e2f +zf))\n",
        "    ey = e1f * np.sin(np.radians(e2f +zf))\n",
        "    Dotline_A = ((oppositionsf[1] * sf) + zf) % 360\n",
        "    Solidline_A= oppositionsf[0]\n",
        "    # print('c',cf,'r',rf,'e1',e1f,'e2',e2f,'z',zf,'s',s)\n",
        "    # print('\\n Data _ opposition',oppositionsf)\n",
        "    # print('\\ncx',cx,'cy',cy,'ex',ex,'ey',ey)\n",
        "    for i in range(0, np.shape(Dotline_A)[0]):\n",
        "        if 0 <= Solidline_A[i] <= 90 or 270 <= Solidline_A[i] <= 360:\n",
        "            plt.plot(xp, xp * np.tan(np.radians(Solidline_A[i])), label='Line' + str(i), linestyle=\"-\",\n",
        "                     linewidth=1 + i * .05)\n",
        "            plt.text((rf-3)/2, (rf-3)/2 * np.tan(np.radians(Solidline_A[i])), str(i), fontsize=8,color='green')\n",
        "        else:\n",
        "            plt.plot(xn, xn * np.tan(np.radians(Solidline_A[i])), label='Line' + str(i), linestyle=\"-\",\n",
        "                     linewidth=1 + i * .05)\n",
        "            plt.text(-(rf - 3) / 2, -(rf - 3) / 2 * np.tan(np.radians(Solidline_A[i])), str(i), fontsize=8, color='green')\n",
        "    xp = np.linspace(ex, rf+3, 200)\n",
        "    xn = np.linspace(-(rf+3), ex, 200)\n",
        "    for i in range(0, np.shape(Dotline_A)[0]):\n",
        "        if 0 <= Dotline_A[i] <= 90 or 270 <= Dotline_A[i] <= 360:\n",
        "            plt.plot(xp, ((xp - ex) * np.tan(np.radians(Dotline_A[i])) + ey), label='Line' + str(i),\n",
        "                     linestyle=\"--\", linewidth=1 + i * .05)\n",
        "            plt.text((rf - 1) / 2, (((rf - 1) / 2 - ex) * np.tan(np.radians(Dotline_A[i])) + ey), str(i), fontsize=8, color='black')\n",
        "        else:\n",
        "            plt.plot(xn, (xn - ex) * np.tan(np.radians(Dotline_A[i])) + ey, label='Line' + str(i),\n",
        "                     linestyle=\"--\", linewidth=1 + i * .05)\n",
        "            plt.text(-(rf - 1) / 2, ((-(rf - 1) / 2 - ex) * np.tan(np.radians(Dotline_A[i])) + ey), str(i), fontsize=8, color='black')\n",
        "    X_circle = np.array([np.nan for x in range(0,np.shape(Dotline_A)[0])])\n",
        "    Y_circle = np.array([np.nan for x in range(0,np.shape(Dotline_A)[0])])\n",
        "    for k in range(0, np.shape(Dotline_A)[0]):\n",
        "        tanValue = np.tan(np.radians(Dotline_A[k]))\n",
        "        a = (1 + tanValue ** 2)\n",
        "        b = -2 * cx + 2 * tanValue * (ey - cy - ex * tanValue)\n",
        "        c = (ey - cy - ex * tanValue) ** 2 + cx ** 2 - rf ** 2\n",
        "        delta = np.sqrt(b ** 2 - 4 * a * c)\n",
        "        x1 = (-b - delta) / (2 * a)\n",
        "        x2 = (-b + delta) / (2 * a)\n",
        "        y1 = ey + (x1 - ex) * tanValue\n",
        "        y2 = ey + (x2 - ex) * tanValue\n",
        "        plt.plot(x1, y1, 'go')\n",
        "        plt.plot(x1, y1, 'ro')\n",
        "        if 0 <= Dotline_A[k] <= 90 or 270 <= Dotline_A[k] <= 360:\n",
        "            X_circle[k] = x1 if x1 >= 0 else x2\n",
        "            Y_circle[k] = y1 if x1 >= 0 else y2\n",
        "        else:\n",
        "            X_circle[k] = x1 if x1 <= 0 else x2\n",
        "            Y_circle[k] = y1 if x1 <= 0 else y2\n",
        "        plt.plot(X_circle[k],Y_circle[k] , 'bo')\n",
        "    plt.annotate('Rotating Axis Ref', xy=(.5, (-ex + .5) * np.tan(np.radians(zf)) + ey), xytext=(rf*.5, rf*.5),\n",
        "                 arrowprops=dict(arrowstyle=\"->\", connectionstyle=\"angle3,angleA=0,angleB=-90\"))\n",
        "    plt.annotate('Equant', xy=(ex, ey), xytext=(2, 2),\n",
        "                 arrowprops=dict(arrowstyle=\"->\", connectionstyle=\"angle3,angleA=0,angleB=-90\"))\n",
        "    theta = np.radians(np.linspace(0, 360 * 2, 100))\n",
        "    plt.plot(cx + rf * np.cos(theta), cy + rf * np.sin(theta) )\n",
        "    plt.plot(cx,cy,'ro')"
      ],
      "metadata": {
        "id": "CD7o2_oMkwEV"
      },
      "execution_count": 147,
      "outputs": []
    },
    {
      "cell_type": "code",
      "metadata": {
        "id": "-D4mBAqYnH0X"
      },
      "source": [
        "def obj(X,oppositions):\n",
        "  c,r,e1,e2,z,s=X\n",
        "  e,emax = MarsEquantModel(c,r,e1,e2,z,s,oppositions)\n",
        "  return emax"
      ],
      "execution_count": 390,
      "outputs": []
    },
    {
      "cell_type": "code",
      "source": [
        "def objrs(X,Y):\n",
        "  c,e1,e2,z=X\n",
        "  r,s,oppositions = Y\n",
        "  e,emax = MarsEquantModel(c,r,e1,e2,z,s,oppositions)\n",
        "  return emax"
      ],
      "metadata": {
        "id": "wk_vbLmw9q9Z"
      },
      "execution_count": 184,
      "outputs": []
    },
    {
      "cell_type": "code",
      "source": [],
      "metadata": {
        "id": "IVPLRNT-9yGI"
      },
      "execution_count": 192,
      "outputs": []
    },
    {
      "cell_type": "code",
      "source": [
        "def objs(X,Y):\n",
        "  c,r,e1,e2,z=X\n",
        "  s,oppositions = Y\n",
        "  e,emax = MarsEquantModel(c,r,e1,e2,z,s,oppositions)\n",
        "  return emax"
      ],
      "metadata": {
        "id": "75mUdFxB99af"
      },
      "execution_count": 186,
      "outputs": []
    },
    {
      "cell_type": "markdown",
      "metadata": {
        "id": "XL_0NbVcD2nJ"
      },
      "source": [
        "# 1. MarsEquantModel"
      ]
    },
    {
      "cell_type": "code",
      "metadata": {
        "id": "RB4knU2sD1o6"
      },
      "source": [
        "def MarsEquantModel(c,r,e1,e2,z,s,oppositions):\n",
        "  # Intersection of Heliolongitudes and orbit\n",
        "  ol = list()\n",
        "  #Intersection of Equantlongitudes and orbit\n",
        "  el = list()\n",
        "\n",
        "  for o in oppositions[:,0]:\n",
        "    x,y = quad(0,0,o,c,r)\n",
        "    ol.append([x,y])\n",
        "\n",
        "  for o in oppositions[:,1]:\n",
        "    ex = e1*cos(np.radians(e2+z))\n",
        "    ey = e1*sin(np.radians(e2+z))\n",
        "    x,y = quad(ex,ey,fmod(o*s+z,360),c,r)\n",
        "    el.append([x,y])\n",
        "  x = np.radians(np.arange(0,360))\n",
        "  d1 = list()\n",
        "  d2 = list()\n",
        "  d3 = list()\n",
        "\n",
        "  for x in el:\n",
        "    d1.append(np.degrees(np.arctan2(x[1],x[0])))\n",
        "  \n",
        "  d3 = [i if i<=180 else i-360 for i in oppositions[:,0]]\n",
        "  d2 = [a-b for a,b in zip(d1,d3)]\n",
        "  print(d3,d1)\n",
        "  # Errors\n",
        "  errors = np.array(d2)\n",
        "  max_error = np.max(np.abs(errors))\n",
        "  return errors,max_error"
      ],
      "execution_count": 402,
      "outputs": []
    },
    {
      "cell_type": "code",
      "source": [
        "MarsEquantModel(c,r,e1,e2,z,s,oppositions)"
      ],
      "metadata": {
        "colab": {
          "base_uri": "https://localhost:8080/"
        },
        "id": "tSAuRwpp5duQ",
        "outputId": "02054efc-a4d1-4c32-8790-f64f0d1d869c"
      },
      "execution_count": 403,
      "outputs": [
        {
          "output_type": "stream",
          "name": "stdout",
          "text": [
            "[66.52638888888889, 106.97500000000001, 141.2361111111111, 175.38333333333333, -145.61666666666667, -93.28333333333336, -17.55000000000001, 47.66111111111111, 92.73333333333333, 128.03333333333333, 162.21666666666667, -161.6138888888889] [62.45698842878941, 104.52247370582803, 142.0379448521443, 178.9658455915864, -140.35726647967564, -88.35014196392864, -17.99479003661074, 43.34282262333133, 88.86263517834912, 127.57964458033685, 164.2997989279896, -157.09050776034903]\n"
          ]
        },
        {
          "output_type": "execute_result",
          "data": {
            "text/plain": [
              "(array([-4.06940046, -2.45252629,  0.80183374,  3.58251226,  5.25940019,\n",
              "         4.93319137, -0.44479004, -4.31828849, -3.87069815, -0.45368875,\n",
              "         2.08313226,  4.52338113]), 5.25940018699103)"
            ]
          },
          "metadata": {},
          "execution_count": 403
        }
      ]
    },
    {
      "cell_type": "markdown",
      "metadata": {
        "id": "cWfvWo6NVvHs"
      },
      "source": [
        "#2. BestOrbitInnerParams\n",
        "\n",
        "\n",
        "\n"
      ]
    },
    {
      "cell_type": "code",
      "metadata": {
        "id": "niKq_U6hXIBn"
      },
      "source": [
        "def bestOrbitInnerParams(r,s,oppositions):\n",
        "  cf = 10\n",
        "  e1f = 1\n",
        "  e2f = 10\n",
        "  print(\"Computing: [\",end='')\n",
        "  def obj(X0,oppositions):\n",
        "    c,e1,e2,z = X0\n",
        "    e,emax = MarsEquantModel(c,r,e1,e2,z,s,oppositions)\n",
        "    return emax\n",
        "  for i in range(3):\n",
        "    print(\"*\",end='')\n",
        "    z = np.linspace(0,360,360)\n",
        "    z_error = np.array([obj((cf,e1f,e2f,i),oppositions) for i in z])\n",
        "    zf = z[z_error.argmin()]\n",
        "    \n",
        "    e2 = np.linspace(zf,360,360)\n",
        "    e2_error = np.array([obj((cf,e1f,i,zf),oppositions) for i in e2])\n",
        "    e2f = e2[e2_error.argmin()]\n",
        "    \n",
        "    c = np.linspace(0,360,360)\n",
        "    c_error = np.array([obj((i,e1f,e2f,zf),oppositions) for i in c])\n",
        "    cf = c[c_error.argmin()]\n",
        "    \n",
        "    e1 = np.linspace(0,0.5*r,300)\n",
        "    e1_error = np.array([obj((cf,i,e2f,zf),oppositions) for i in e1])\n",
        "    e1f = e1[e1_error.argmin()]\n",
        "    \n",
        "  print(\"]\")\n",
        "  res = op.minimize(fun=obj,x0=[cf,e1f,e2f,zf],args=oppositions,method='Nelder-Mead', options={'xatol' : 1e-5 ,'disp':False, 'return_all' :False})\n",
        "  errors,maxError = MarsEquantModel(cf,r,e1f,e2f,zf,s,oppositions)\n",
        "  return cf,e1f,e2f,zf,errors,maxError\n"
      ],
      "execution_count": 367,
      "outputs": []
    },
    {
      "cell_type": "code",
      "source": [
        "bestOrbitInnerParams(10,360/687,oppositions)"
      ],
      "metadata": {
        "colab": {
          "base_uri": "https://localhost:8080/"
        },
        "id": "sG-xgMe55MlG",
        "outputId": "57ec1c6e-0dc9-4052-b718-0e2e168b3932"
      },
      "execution_count": 368,
      "outputs": [
        {
          "output_type": "stream",
          "name": "stdout",
          "text": [
            "Computing: [***]\n"
          ]
        },
        {
          "output_type": "execute_result",
          "data": {
            "text/plain": [
              "(228.6350974930362,\n",
              " 1.6722408026755853,\n",
              " 145.16367812167812,\n",
              " 55.15320334261838,\n",
              " array([-0.71337294, -0.88597768, -0.87866475, -0.56939456,  0.50080438,\n",
              "         1.2633567 , -1.06496396, -1.26935221, -1.27506403, -0.85154995,\n",
              "        -1.28842847, -0.23521396]),\n",
              " 1.2884284650682005)"
            ]
          },
          "metadata": {},
          "execution_count": 368
        }
      ]
    },
    {
      "cell_type": "markdown",
      "metadata": {
        "id": "EUOP5TGVCuah"
      },
      "source": [
        "#3. BestS"
      ]
    },
    {
      "cell_type": "code",
      "metadata": {
        "id": "5SNsXMT8DD4b"
      },
      "source": [
        "def bestS(r,oppositions):\n",
        "  maxError = 720\n",
        "  sgood = 360/687\n",
        "  print(\"BestS :\")\n",
        "  iter=1\n",
        "  for s in np.linspace(360/(687+0.1),360/(687-0.1),12):\n",
        "    print(f'{iter:2}: ',end='')\n",
        "    iter+=1\n",
        "    _c,_e1,_e2,_z,_errors,_maxError = bestOrbitInnerParams(r,s,oppositions)\n",
        "    if maxError > _maxError:\n",
        "      c,e1,e2,z,errors,maxError=_c,_e1,_e2,_z,_errors,_maxError\n",
        "      sgood = s\n",
        "  print(\"]\")\n",
        "  #optimizing in the neighbourhood of c,e1,e2,z,s\n",
        "  '''res = op.minimize(fun=obj,x0=[c,r,e1,e2,z,sgood],args=oppositions,method='Nelder-Mead', options={'xatol' : 1e-5 ,'disp':False, 'return_all' :False})\n",
        "  c,r,e1,e2,z,s = res.x\n",
        "  errors,maxError = MarsEquantModel(c,r,e1,e2,z,s,oppositions)'''\n",
        "  c,e1,e2,z,errors,maxError = bestOrbitInnerParams(r,sgood,oppositions)\n",
        "  return sgood,errors,maxError"
      ],
      "execution_count": 369,
      "outputs": []
    },
    {
      "cell_type": "code",
      "source": [
        "bestS(10,oppositions)"
      ],
      "metadata": {
        "colab": {
          "base_uri": "https://localhost:8080/"
        },
        "id": "D09W3BViaT7g",
        "outputId": "843de363-8ea3-4d7a-f416-c971985bb66c"
      },
      "execution_count": 370,
      "outputs": [
        {
          "output_type": "stream",
          "name": "stdout",
          "text": [
            "BestS :\n",
            " 1: Computing: [***]\n",
            " 2: Computing: [***]\n",
            " 3: Computing: [***]\n",
            " 4: Computing: [***]\n",
            " 5: Computing: [***]\n",
            " 6: Computing: [***]\n",
            " 7: Computing: [***]\n",
            " 8: Computing: [***]\n",
            " 9: Computing: [***]\n",
            "10: Computing: [***]\n",
            "11: Computing: [***]\n",
            "12: Computing: [***]\n",
            "]\n",
            "Computing: [***]\n"
          ]
        },
        {
          "output_type": "execute_result",
          "data": {
            "text/plain": [
              "(0.5239828073527381,\n",
              " array([ 0.33859216,  0.20618486,  0.44936234,  0.42655146,  0.40134072,\n",
              "         0.4537645 , -0.31876465, -0.27359085, -0.44911448,  0.2472302 ,\n",
              "        -0.23008916, -0.02754058]),\n",
              " 0.45376450185987116)"
            ]
          },
          "metadata": {},
          "execution_count": 370
        }
      ]
    },
    {
      "cell_type": "markdown",
      "metadata": {
        "id": "9gl5ewNlR9DB"
      },
      "source": [
        "#4. BestR"
      ]
    },
    {
      "cell_type": "code",
      "metadata": {
        "id": "TH2cEuNaR8tT"
      },
      "source": [
        "def bestR(s,oppositions):\n",
        "  maxError = 720\n",
        "  rgood = 9\n",
        "  print(\"BestR :\")\n",
        "  iter=1\n",
        "  def obj(X0,opposition):\n",
        "    c,r,e1,e2,z = X0\n",
        "\n",
        "  for r in np.linspace(8,9,10):\n",
        "    print(f'{iter:2}: ',end='')\n",
        "    iter+=1\n",
        "    _c,_e1,_e2,_z,_errors,_maxError = bestOrbitInnerParams(r,s,oppositions)\n",
        "    if maxError > _maxError:\n",
        "      c,e1,e2,z,errors,maxError=_c,_e1,_e2,_z,_errors,_maxError\n",
        "      rgood = r\n",
        "  print(\"]\")\n",
        "  #optimizing in the neighbourhood of c,r,e1,e2,z\n",
        "  #res = op.minimize(fun=obj,x0=[c,rgood,e1,e2,z,s],args=oppositions,method='Nelder-Mead', options={'xatol' : 1e-5 ,'disp':False, 'return_all' :False})\n",
        "  c,e1,e2,error,maxError = bestOrbitInnerParams(rgood,s,oppositions)\n",
        "  return rgood,errors,maxError"
      ],
      "execution_count": 346,
      "outputs": []
    },
    {
      "cell_type": "code",
      "source": [
        "def bestR(s,oppositions):\n",
        "  maxError = 720\n",
        "  iter = 1\n",
        "  best_rf = 5\n",
        "  for o_rf in np.linspace(5,10,10):\n",
        "    _c,_e1,_e2,_z,_errors,_maxError = bestOrbitInnerParams(o_rf,s,oppositions)\n",
        "    if maxError>_maxError:\n",
        "      c,e1,e2,z,errors,maxError = _c,_e1,_e2,_z,_errors,_maxError\n",
        "      best_rf = o_rf\n",
        "    cx = np.cos(np.radians(_c))\n",
        "    cy = np.sin(np.radians(_c))\n",
        "    ex = _e1 * np.cos(np.radians(_e2))\n",
        "    ey = _e1 * np.sin(np.radians(_e2))\n",
        "    Dotlinef = (oppositions.T[1] * s + _z) % 360\n",
        "    # print('Doted line Angle=', Dotlinef)\n",
        "    X_Line = (ey-ex*np.tan(np.radians(Dotlinef))) / (np.tan(np.radians(oppositions.T[0]))-np.tan(np.radians(Dotlinef)))\n",
        "    Y_Line = X_Line * np.tan(np.radians(oppositions.T[0]))\n",
        "    dis_C = np.sqrt((X_Line - cx) ** 2 + (Y_Line - cy) ** 2)\n",
        "    New_rf = np.mean(dis_C)\n",
        "    print(New_rf)\n",
        "    for rf in np.linspace(New_rf,min(10,New_rf+0.5),5):\n",
        "      _c,_e1,_e2,_z,_errors,_maxError = bestOrbitInnerParams(rf,s,oppositions)\n",
        "      if maxError>_maxError:\n",
        "        best_rf = rf\n",
        "        print(\"Change \"+str(best_rf))\n",
        "  c,e1,e2,z,errors,maxError = bestOrbitInnerParams(best_rf,s,oppositions)\n",
        "  return best_rf,errors,maxError\n"
      ],
      "metadata": {
        "id": "W2x3nySfzlqV"
      },
      "execution_count": 374,
      "outputs": []
    },
    {
      "cell_type": "code",
      "source": [
        "bestR(s,oppositions)"
      ],
      "metadata": {
        "colab": {
          "base_uri": "https://localhost:8080/"
        },
        "id": "Fy-V31WjaiOD",
        "outputId": "5ff4a880-f4e7-4e45-9c9b-caddf802881d"
      },
      "execution_count": 375,
      "outputs": [
        {
          "output_type": "stream",
          "name": "stdout",
          "text": [
            "Computing: [***]\n",
            "5.210711600736482\n",
            "Computing: [***]\n",
            "Change 5.210711600736482\n",
            "Computing: [***]\n",
            "Change 5.335711600736482\n",
            "Computing: [***]\n",
            "Change 5.460711600736482\n",
            "Computing: [***]\n",
            "Change 5.585711600736482\n",
            "Computing: [***]\n",
            "Change 5.710711600736482\n",
            "Computing: [***]\n",
            "5.835774410811735\n",
            "Computing: [***]\n",
            "Change 5.835774410811735\n",
            "Computing: [***]\n",
            "Change 5.960774410811735\n",
            "Computing: [***]\n",
            "Computing: [***]\n",
            "Computing: [***]\n",
            "Computing: [***]\n",
            "5.7921653147128795\n",
            "Computing: [***]\n",
            "Change 5.7921653147128795\n",
            "Computing: [***]\n",
            "Change 5.9171653147128795\n",
            "Computing: [***]\n",
            "Change 6.0421653147128795\n",
            "Computing: [***]\n",
            "Computing: [***]\n",
            "Computing: [***]\n",
            "6.970157354040914\n",
            "Computing: [***]\n",
            "Computing: [***]\n",
            "Computing: [***]\n",
            "Computing: [***]\n",
            "Computing: [***]\n",
            "Computing: [***]\n",
            "7.063971871044067\n",
            "Computing: [***]\n",
            "Computing: [***]\n",
            "Computing: [***]\n",
            "Computing: [***]\n",
            "Computing: [***]\n",
            "Computing: [***]\n",
            "7.411919040911478\n",
            "Computing: [***]\n",
            "Computing: [***]\n",
            "Computing: [***]\n",
            "Computing: [***]\n",
            "Computing: [***]\n",
            "Computing: [***]\n",
            "7.912871678171406\n",
            "Computing: [***]\n",
            "Computing: [***]\n",
            "Computing: [***]\n",
            "Computing: [***]\n",
            "Computing: [***]\n",
            "Computing: [***]\n",
            "8.474289602580514\n",
            "Computing: [***]\n",
            "Computing: [***]\n",
            "Computing: [***]\n",
            "Computing: [***]\n",
            "Computing: [***]\n",
            "Computing: [***]\n",
            "9.029297916145596\n",
            "Computing: [***]\n",
            "Computing: [***]\n",
            "Computing: [***]\n",
            "Computing: [***]\n",
            "Computing: [***]\n",
            "Computing: [***]\n",
            "9.500073703584485\n",
            "Computing: [***]\n",
            "Computing: [***]\n",
            "Computing: [***]\n",
            "Computing: [***]\n",
            "Computing: [***]\n",
            "Computing: [***]\n"
          ]
        },
        {
          "output_type": "execute_result",
          "data": {
            "text/plain": [
              "(6.666666666666667,\n",
              " array([ 0.41479436, -0.01545418,  0.32622462,  0.41145973,  0.19143523,\n",
              "         0.03315361,  0.25659297,  0.24513393, -0.43371923,  0.22886851,\n",
              "        -0.09500776,  0.06068025]),\n",
              " 0.43371922544444264)"
            ]
          },
          "metadata": {},
          "execution_count": 375
        }
      ]
    },
    {
      "cell_type": "markdown",
      "metadata": {
        "id": "B57IjAKNtEFn"
      },
      "source": [
        "#5. BestMarsOrbitParams"
      ]
    },
    {
      "cell_type": "code",
      "metadata": {
        "id": "RrMkyeNvtP3f"
      },
      "source": [
        "def bestMarsOrbitParams(oppositions):\n",
        "  r = 5\n",
        "  s = 360/687\n",
        "  emaxt = 1\n",
        "  while(emaxt>4/60):\n",
        "    s,er,emax = bestS(r,oppositions)\n",
        "    r,er,emax = bestR(s,oppositions)\n",
        "\n",
        "    c,e1,e2,z,errors,emax = bestOrbitInnerParams(r,s,oppositions)\n",
        "    res = op.minimize(fun=obj,x0=[c,r,e1,e2,z,s],args=oppositions,method='Nelder-Mead', options={'xatol' : 1e-5 ,'disp':False, 'return_all' :False})\n",
        "    c,r,e1,e2,z,s = res.x\n",
        "    if(emaxt-emax)<0.01:\n",
        "      break\n",
        "    emaxt = emax\n",
        "    print(c,r,e1,e2,z,s,emax)\n",
        "  plot(c,r,e1,e2,z,s,oppositions)\n",
        "  plt.xlim(-(r + 3), r + 3)\n",
        "  plt.ylim(-(r + 3), r + 3)\n",
        "  plt.grid()\n",
        "  plt.show()\n",
        "  print([e1,e2])\n",
        "  e1,e2 = c2p(e1,e2)\n",
        "  return r,s,c,e1,e2,z,er,emax"
      ],
      "execution_count": 377,
      "outputs": []
    },
    {
      "cell_type": "code",
      "metadata": {
        "id": "yKg93rdjvG0e",
        "colab": {
          "base_uri": "https://localhost:8080/",
          "height": 1000
        },
        "outputId": "0a878fe2-d6cb-4640-d954-349a46444fa7"
      },
      "source": [
        "bestMarsOrbitParams(oppositions)"
      ],
      "execution_count": 378,
      "outputs": [
        {
          "output_type": "stream",
          "name": "stdout",
          "text": [
            "BestS :\n",
            " 1: Computing: [***]\n",
            " 2: Computing: [***]\n",
            " 3: Computing: [***]\n",
            " 4: Computing: [***]\n",
            " 5: Computing: [***]\n",
            " 6: Computing: [***]\n",
            " 7: Computing: [***]\n",
            " 8: Computing: [***]\n",
            " 9: Computing: [***]\n",
            "10: Computing: [***]\n",
            "11: Computing: [***]\n",
            "12: Computing: [***]\n",
            "]\n",
            "Computing: [***]\n",
            "Computing: [***]\n",
            "4.764103400262352\n",
            "Computing: [***]\n",
            "Computing: [***]\n",
            "Computing: [***]\n",
            "Change 5.014103400262352\n",
            "Computing: [***]\n",
            "Change 5.139103400262352\n",
            "Computing: [***]\n",
            "Change 5.264103400262352\n",
            "Computing: [***]\n",
            "5.369754069428048\n",
            "Computing: [***]\n",
            "Change 5.369754069428048\n",
            "Computing: [***]\n",
            "Change 5.494754069428048\n",
            "Computing: [***]\n",
            "Change 5.619754069428048\n",
            "Computing: [***]\n",
            "Change 5.744754069428048\n",
            "Computing: [***]\n",
            "Change 5.869754069428048\n",
            "Computing: [***]\n",
            "6.09595552982467\n",
            "Computing: [***]\n",
            "Change 6.09595552982467\n",
            "Computing: [***]\n",
            "Computing: [***]\n",
            "Computing: [***]\n",
            "Computing: [***]\n",
            "Computing: [***]\n",
            "6.686167441477665\n",
            "Computing: [***]\n",
            "Computing: [***]\n",
            "Computing: [***]\n",
            "Computing: [***]\n",
            "Computing: [***]\n",
            "Computing: [***]\n",
            "7.617822657915236\n",
            "Computing: [***]\n",
            "Computing: [***]\n",
            "Computing: [***]\n",
            "Computing: [***]\n",
            "Computing: [***]\n",
            "Computing: [***]\n",
            "8.152635178248419\n",
            "Computing: [***]\n",
            "Computing: [***]\n",
            "Computing: [***]\n",
            "Computing: [***]\n",
            "Computing: [***]\n",
            "Computing: [***]\n",
            "8.747041957879427\n",
            "Computing: [***]\n",
            "Computing: [***]\n",
            "Computing: [***]\n",
            "Computing: [***]\n",
            "Computing: [***]\n",
            "Computing: [***]\n",
            "9.360604955892418\n",
            "Computing: [***]\n",
            "Computing: [***]\n",
            "Computing: [***]\n",
            "Computing: [***]\n",
            "Computing: [***]\n",
            "Computing: [***]\n",
            "9.738031684520715\n",
            "Computing: [***]\n",
            "Computing: [***]\n",
            "Computing: [***]\n",
            "Computing: [***]\n",
            "Computing: [***]\n",
            "Computing: [***]\n",
            "10.339195363592195\n",
            "Computing: [***]\n",
            "Computing: [***]\n",
            "Computing: [***]\n",
            "Computing: [***]\n",
            "Computing: [***]\n",
            "Computing: [***]\n",
            "Computing: [***]\n",
            "164.15863597917422 6.904500648440575 1.303956739914443 148.12807041559088 55.478262438595706 0.5240891749512813 0.5164289229287145\n",
            "BestS :\n",
            " 1: Computing: [***]\n",
            " 2: Computing: [***]\n",
            " 3: Computing: [***]\n",
            " 4: Computing: [***]\n",
            " 5: Computing: [***]\n",
            " 6: Computing: [***]\n",
            " 7: Computing: [***]\n",
            " 8: Computing: [***]\n",
            " 9: Computing: [***]\n",
            "10: Computing: [***]\n",
            "11: Computing: [***]\n",
            "12: Computing: [***]\n",
            "]\n",
            "Computing: [***]\n",
            "Computing: [***]\n",
            "5.22434201266426\n",
            "Computing: [***]\n",
            "Change 5.22434201266426\n",
            "Computing: [***]\n",
            "Change 5.34934201266426\n",
            "Computing: [***]\n",
            "Change 5.47434201266426\n",
            "Computing: [***]\n",
            "Change 5.59934201266426\n",
            "Computing: [***]\n",
            "Change 5.72434201266426\n",
            "Computing: [***]\n",
            "5.848639420002377\n",
            "Computing: [***]\n",
            "Change 5.848639420002377\n",
            "Computing: [***]\n",
            "Change 5.973639420002377\n",
            "Computing: [***]\n",
            "Computing: [***]\n",
            "Computing: [***]\n",
            "Change 6.348639420002377\n",
            "Computing: [***]\n",
            "5.757130626169047\n",
            "Computing: [***]\n",
            "Change 5.757130626169047\n",
            "Computing: [***]\n",
            "Change 5.882130626169047\n",
            "Computing: [***]\n",
            "Change 6.007130626169047\n",
            "Computing: [***]\n",
            "Computing: [***]\n",
            "Computing: [***]\n",
            "7.068228240192283\n",
            "Computing: [***]\n",
            "Computing: [***]\n",
            "Computing: [***]\n",
            "Computing: [***]\n",
            "Computing: [***]\n",
            "Computing: [***]\n",
            "7.038558185219667\n",
            "Computing: [***]\n",
            "Computing: [***]\n",
            "Computing: [***]\n",
            "Computing: [***]\n",
            "Computing: [***]\n",
            "Computing: [***]\n",
            "7.423763975357147\n",
            "Computing: [***]\n",
            "Computing: [***]\n",
            "Computing: [***]\n",
            "Computing: [***]\n",
            "Computing: [***]\n",
            "Computing: [***]\n",
            "7.9272297934604365\n",
            "Computing: [***]\n",
            "Computing: [***]\n",
            "Computing: [***]\n",
            "Computing: [***]\n",
            "Computing: [***]\n",
            "Computing: [***]\n",
            "8.498292597105026\n",
            "Computing: [***]\n",
            "Computing: [***]\n",
            "Computing: [***]\n",
            "Computing: [***]\n",
            "Computing: [***]\n",
            "Computing: [***]\n",
            "8.96109784676233\n",
            "Computing: [***]\n",
            "Computing: [***]\n",
            "Computing: [***]\n",
            "Computing: [***]\n",
            "Computing: [***]\n",
            "Computing: [***]\n",
            "9.614944703780678\n",
            "Computing: [***]\n",
            "Change 9.614944703780678\n",
            "Computing: [***]\n",
            "Computing: [***]\n",
            "Computing: [***]\n",
            "Computing: [***]\n",
            "Computing: [***]\n",
            "Computing: [***]\n",
            "156.78463469779555 9.438201047669933 1.7702539897915806 146.38233204092273 55.685308444391765 0.5240976466908737 0.48750956215229496\n",
            "BestS :\n",
            " 1: Computing: [***]\n",
            " 2: Computing: [***]\n",
            " 3: Computing: [***]\n",
            " 4: Computing: [***]\n",
            " 5: Computing: [***]\n",
            " 6: Computing: [***]\n",
            " 7: Computing: [***]\n",
            " 8: Computing: [***]\n",
            " 9: Computing: [***]\n",
            "10: Computing: [***]\n",
            "11: Computing: [***]\n",
            "12: Computing: [***]\n",
            "]\n",
            "Computing: [***]\n",
            "Computing: [***]\n",
            "4.764103400262352\n",
            "Computing: [***]\n",
            "Computing: [***]\n",
            "Computing: [***]\n",
            "Change 5.014103400262352\n",
            "Computing: [***]\n",
            "Change 5.139103400262352\n",
            "Computing: [***]\n",
            "Change 5.264103400262352\n",
            "Computing: [***]\n",
            "5.369754069428048\n",
            "Computing: [***]\n",
            "Change 5.369754069428048\n",
            "Computing: [***]\n",
            "Change 5.494754069428048\n",
            "Computing: [***]\n",
            "Change 5.619754069428048\n",
            "Computing: [***]\n",
            "Change 5.744754069428048\n",
            "Computing: [***]\n",
            "Change 5.869754069428048\n",
            "Computing: [***]\n",
            "6.09595552982467\n",
            "Computing: [***]\n",
            "Change 6.09595552982467\n",
            "Computing: [***]\n",
            "Computing: [***]\n",
            "Computing: [***]\n",
            "Computing: [***]\n",
            "Computing: [***]\n",
            "6.686167441477665\n",
            "Computing: [***]\n",
            "Computing: [***]\n",
            "Computing: [***]\n",
            "Computing: [***]\n",
            "Computing: [***]\n",
            "Computing: [***]\n",
            "7.617822657915236\n",
            "Computing: [***]\n",
            "Computing: [***]\n",
            "Computing: [***]\n",
            "Computing: [***]\n",
            "Computing: [***]\n",
            "Computing: [***]\n",
            "8.152635178248419\n",
            "Computing: [***]\n",
            "Computing: [***]\n",
            "Computing: [***]\n",
            "Computing: [***]\n",
            "Computing: [***]\n",
            "Computing: [***]\n",
            "8.747041957879427\n",
            "Computing: [***]\n",
            "Computing: [***]\n",
            "Computing: [***]\n",
            "Computing: [***]\n",
            "Computing: [***]\n",
            "Computing: [***]\n",
            "9.360604955892418\n",
            "Computing: [***]\n",
            "Computing: [***]\n",
            "Computing: [***]\n",
            "Computing: [***]\n",
            "Computing: [***]\n",
            "Computing: [***]\n",
            "9.738031684520715\n",
            "Computing: [***]\n",
            "Computing: [***]\n",
            "Computing: [***]\n",
            "Computing: [***]\n",
            "Computing: [***]\n",
            "Computing: [***]\n",
            "10.339195363592195\n",
            "Computing: [***]\n",
            "Computing: [***]\n",
            "Computing: [***]\n",
            "Computing: [***]\n",
            "Computing: [***]\n",
            "Computing: [***]\n",
            "Computing: [***]\n"
          ]
        },
        {
          "output_type": "display_data",
          "data": {
            "text/plain": [
              "<Figure size 432x288 with 1 Axes>"
            ],
            "image/png": "[encoded data removed]"
          },
          "metadata": {
            "needs_background": "light"
          }
        },
        {
          "output_type": "stream",
          "name": "stdout",
          "text": [
            "[1.303956739914443, 148.12807041559088]\n"
          ]
        },
        {
          "output_type": "execute_result",
          "data": {
            "text/plain": [
              "(6.904500648440575,\n",
              " 0.5240891749512813,\n",
              " 164.15863597917422,\n",
              " 148.13380960545712,\n",
              " 89.49564395237483,\n",
              " 55.478262438595706,\n",
              " array([ 0.20583456, -0.36067626, -0.34144801, -0.30869318, -0.29602637,\n",
              "        -0.46551213, -0.51642892,  0.33230115, -0.26945562,  0.03853179,\n",
              "        -0.46782984, -0.13490377]),\n",
              " 0.5164289229287145)"
            ]
          },
          "metadata": {},
          "execution_count": 378
        }
      ]
    },
    {
      "cell_type": "code",
      "source": [
        "ex = 1.6029181600675653*cos(91.94272990410497+55.48468260460285)\n",
        "ey = 1.6029181600675653*sin(91.94272990410497+55.48468260460285)\n",
        "plot(164.15863597917422, 6.904500648440575, 1.303956739914443, 148.12807041559088, 89.49564395237483,55.478262438595706,oppositions)\n",
        "plt.xlim(-(6.904500648440575 + 3), 6.904500648440575 + 3)\n",
        "plt.ylim(-(6.904500648440575 + 3), 6.904500648440575 + 3)\n",
        "plt.grid()\n",
        "plt.show()"
      ],
      "metadata": {
        "colab": {
          "base_uri": "https://localhost:8080/",
          "height": 265
        },
        "id": "X8vASvmUt_31",
        "outputId": "9d921689-6399-4070-a27a-e57a5acb92ec"
      },
      "execution_count": 384,
      "outputs": [
        {
          "output_type": "display_data",
          "data": {
            "text/plain": [
              "<Figure size 432x288 with 1 Axes>"
            ],
            "image/png": "[encoded data removed]"
          },
          "metadata": {
            "needs_background": "light"
          }
        }
      ]
    },
    {
      "cell_type": "code",
      "metadata": {
        "id": "s8gTSuU_MsRz",
        "colab": {
          "base_uri": "https://localhost:8080/",
          "height": 1000
        },
        "outputId": "c3bb58d2-4f23-4418-c8ad-bb1f687453c6"
      },
      "source": [
        "PlotOut(oppositions,55.48468260460285,172.9987003991455,8.64818816391562,1.6029181600675653,91.94272990410497,0.5240933473326761)\n",
        "plt.xlim(-(8.64818816391562 + 3), 8.64818816391562 + 3)\n",
        "plt.ylim(-(8.64818816391562 + 3), 8.64818816391562 + 3)\n",
        "plt.grid()\n",
        "plt.show()"
      ],
      "execution_count": 148,
      "outputs": [
        {
          "output_type": "display_data",
          "data": {
            "text/plain": [
              "<Figure size 432x288 with 1 Axes>"
            ],
            "image/png": "[encoded data removed]"
          },
          "metadata": {
            "needs_background": "light"
          }
        }
      ]
    },
    {
      "cell_type": "code",
      "source": [
        "oppositions.T[1]"
      ],
      "metadata": {
        "colab": {
          "base_uri": "https://localhost:8080/"
        },
        "id": "lLwHy9JRavTn",
        "outputId": "594023fd-be24-4912-fd7c-45228f07c9d2"
      },
      "execution_count": 126,
      "outputs": [
        {
          "output_type": "execute_result",
          "data": {
            "text/plain": [
              "array([   0.        ,  770.10208333, 1534.75555556, 2299.26041667,\n",
              "       3069.20486111, 3854.26041667, 4663.65833333, 5459.96041667,\n",
              "       6234.58333333, 7000.54861111, 7764.54097222, 8531.63125   ])"
            ]
          },
          "metadata": {},
          "execution_count": 126
        }
      ]
    },
    {
      "cell_type": "code",
      "source": [],
      "metadata": {
        "id": "DdTp2hJilzIQ"
      },
      "execution_count": null,
      "outputs": []
    }
  ]
}