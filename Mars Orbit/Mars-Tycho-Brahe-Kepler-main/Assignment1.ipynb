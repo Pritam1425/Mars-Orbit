{
  "nbformat": 4,
  "nbformat_minor": 0,
  "metadata": {
    "colab": {
      "name": "Assignment1.ipynb",
      "provenance": [],
      "collapsed_sections": [],
      "include_colab_link": true
    },
    "kernelspec": {
      "name": "python3",
      "display_name": "Python 3"
    },
    "language_info": {
      "name": "python"
    }
  },
  "cells": [
    {
      "cell_type": "markdown",
      "metadata": {
        "id": "view-in-github",
        "colab_type": "text"
      },
      "source": [
        "<a href=\"https://colab.research.google.com/github/AdarshShah/Mars-Tycho-Brahe-Kepler/blob/main/Assignment1.ipynb\" target=\"_parent\"><img src=\"https://colab.research.google.com/assets/colab-badge.svg\" alt=\"Open In Colab\"/></a>"
      ]
    },
    {
      "cell_type": "markdown",
      "metadata": {
        "id": "ZpdB2yTboQCr"
      },
      "source": [
        "# Mars Orbit\n",
        "Author : Adarsh Shah\n",
        "\n",
        "Date : 18th Aug, 2021 "
      ]
    },
    {
      "cell_type": "code",
      "metadata": {
        "id": "99LbmedAlabO"
      },
      "source": [
        "import numpy as np\n",
        "from matplotlib import pyplot\n",
        "import pandas as pd\n",
        "from math import radians, cos, sin, tan, sqrt, fmod, atan, degrees\n",
        "import datetime\n",
        "from scipy import optimize as op"
      ],
      "execution_count": 7,
      "outputs": []
    },
    {
      "cell_type": "markdown",
      "metadata": {
        "id": "L78R-Jtmou77"
      },
      "source": [
        "# Data Preparation"
      ]
    },
    {
      "cell_type": "code",
      "metadata": {
        "id": "ksiAoidgraJh"
      },
      "source": [
        "# Orbit Center in degrees\n",
        "c = 0 \n",
        "# Orbit radius\n",
        "r = 8\n",
        "# Equant Center\n",
        "e1 = 1\n",
        "e2 = 1\n",
        "# Equant 0 in degrees\n",
        "z = 0\n",
        "# Mars angular velocity in degrees per day\n",
        "s = 360/687\n",
        "# Data Path\n",
        "path = \"/content/01_data_mars_opposition_updated.csv\""
      ],
      "execution_count": 8,
      "outputs": []
    },
    {
      "cell_type": "code",
      "metadata": {
        "id": "_fmV0tM-m99a",
        "cellView": "code"
      },
      "source": [
        "data = pd.read_csv(path)\n",
        " \n",
        "lg = np.array(data['ZodiacIndex']*30 + data['Degree'] + data['Minute']/60 + data['Second']/3600)\n",
        "elg = [ 0 ]\n",
        "for i in range(1,12):\n",
        "  d1 = datetime.datetime(data['Year'][i],data['Month'][i],data['Day'][i],data['Hour'][i],data['Minute.1'][i])\n",
        "  d2 = datetime.datetime(data['Year'][i-1],data['Month'][i-1],data['Day'][i-1],data['Hour'][i-1],data['Minute.1'][i-1])\n",
        "  ddelta = d1-d2\n",
        "  elg += [elg[-1]+ddelta.days+ddelta.seconds/(3600*24)]\n",
        "elg = np.array(elg)\n",
        " \n",
        "elg.resize((12,1))\n",
        "lg.resize(12,1)\n",
        "oppositions=np.append(lg,elg,axis=1)"
      ],
      "execution_count": null,
      "outputs": []
    },
    {
      "cell_type": "markdown",
      "metadata": {
        "id": "dyxQRM21WJGz"
      },
      "source": [
        "# Utils"
      ]
    },
    {
      "cell_type": "code",
      "metadata": {
        "id": "z4IuNkAMhGlA"
      },
      "source": [
        "# Equant Polar to co-ordinate\n",
        "def p2c(e1,e2):\n",
        "  x = e1*cos(radians(fmod(e2,360)))\n",
        "  y = e1*sin(radians(fmod(e2,360)))\n",
        "  return x,y"
      ],
      "execution_count": 10,
      "outputs": []
    },
    {
      "cell_type": "code",
      "metadata": {
        "id": "lp-SHm8whLXb"
      },
      "source": [
        "# Equant Co-ordinate to Polar\n",
        "def c2p(x,y):\n",
        "  e1 = sqrt(x**2+y**2)\n",
        "  e2 = degrees(atan(y/x))\n",
        "  return e1,e2"
      ],
      "execution_count": 11,
      "outputs": []
    },
    {
      "cell_type": "code",
      "metadata": {
        "id": "dTC0khVhNNK8"
      },
      "source": [
        "# Intersection of Latitude and orbit.\n",
        "def intersect(e1,e2,m,c,r):\n",
        "    f = lambda x : [(x[0]-cos(radians(c)))**2 + (x[1]-sin(radians(c)))**2 - r**2,tan(radians(m))*(e1-x[0])-(e2-x[1])]\n",
        "    res = op.fsolve(func=f,x0=[e1+2*r*cos(radians(m)),e2+2*r*sin(radians(m))])\n",
        "    return res"
      ],
      "execution_count": 12,
      "outputs": []
    },
    {
      "cell_type": "code",
      "metadata": {
        "id": "CwGoJPCtL0nE"
      },
      "source": [
        "# Distance between two co-ordinates.\n",
        "def distance(x,y):\n",
        "  return sqrt((y[0]-x[0])**2+(y[1]-x[1])**2)"
      ],
      "execution_count": 13,
      "outputs": []
    },
    {
      "cell_type": "code",
      "metadata": {
        "id": "3tSXOKYNdJZM"
      },
      "source": [
        "# Plot\n",
        "def plot(c,r,e1,e2,z,s,oppositions):\n",
        "  pyplot.scatter(cos(radians(c)),sin(radians(c)),c='r')\n",
        "  pyplot.scatter(e1,e2,c='b')\n",
        "  pyplot.scatter(0,0,c='g')\n",
        "  \n",
        "  for o in oppositions[:,0]:\n",
        "    pyplot.arrow(0,0,1.5*r*cos(radians(o)),1.5*r*sin(radians(o)),ls='-')\n",
        "    x,y = intersect(0,0,o,c,r)\n",
        "    pyplot.scatter(x,y)\n",
        "\n",
        "  for o in oppositions[:,1]:\n",
        "    m = fmod(o*s+z,360)\n",
        "    pyplot.arrow(e1,e2,1.5*r*cos(radians(m)),1.5*r*sin(radians(m)),ls=':')\n",
        "    x,y = intersect(e1,e2,m,c,r)\n",
        "    pyplot.scatter(x,y)\n",
        "\n",
        "  x = np.radians(np.arange(0,360))\n",
        "  pyplot.plot(cos(radians(c))+r*np.cos(x),sin(radians(c))+r*np.sin(x))\n",
        "  pyplot.show()\n"
      ],
      "execution_count": 14,
      "outputs": []
    },
    {
      "cell_type": "code",
      "metadata": {
        "id": "-D4mBAqYnH0X"
      },
      "source": [
        "def obj(X,oppositions):\n",
        "  c,r,e1,e2,z,s=X\n",
        "  e,emax = MarsEquantModel(c,r,e1,e2,z,s,oppositions)\n",
        "  return emax"
      ],
      "execution_count": 15,
      "outputs": []
    },
    {
      "cell_type": "markdown",
      "metadata": {
        "id": "XL_0NbVcD2nJ"
      },
      "source": [
        "# 1. MarsEquantModel"
      ]
    },
    {
      "cell_type": "code",
      "metadata": {
        "id": "RB4knU2sD1o6"
      },
      "source": [
        "def MarsEquantModel(c,r,e1,e2,z,s,oppositions):\n",
        "  # Intersection of Heliolongitudes and orbit\n",
        "  ol = list()\n",
        "  #Intersection of Equantlongitudes and orbit\n",
        "  el = list()\n",
        "\n",
        "  for o in oppositions[:,0]:\n",
        "    x,y = intersect(0,0,o,c,r)\n",
        "    ol.append([x,y])\n",
        "\n",
        "  for o in oppositions[:,1]:\n",
        "    x,y = intersect(e1,e2,fmod(o*s+z,360),c,r)\n",
        "    el.append([x,y])\n",
        "\n",
        "  x = np.radians(np.arange(0,360))\n",
        "\n",
        "  # Distances between sun, equant intersect and latitude intersect\n",
        "  d1 = list()\n",
        "  d2 = list()\n",
        "  d3 = list()\n",
        "\n",
        "  for x in ol:\n",
        "    d1.append(distance(x,[0,0]))\n",
        "  \n",
        "  for x,y in zip(ol,el):\n",
        "    d3.append(distance(x,y))\n",
        "\n",
        "  # Errors\n",
        "  d1 = np.array(d1)\n",
        "  d3 = np.array(d3)\n",
        "  errors = np.rad2deg(np.arctan(np.divide(d3,d1)))\n",
        "  max_error = np.max(errors)\n",
        "  return errors,max_error"
      ],
      "execution_count": 16,
      "outputs": []
    },
    {
      "cell_type": "markdown",
      "metadata": {
        "id": "cWfvWo6NVvHs"
      },
      "source": [
        "#2. BestOrbitInnerParams\n",
        "\n",
        "\n",
        "\n"
      ]
    },
    {
      "cell_type": "code",
      "metadata": {
        "id": "niKq_U6hXIBn"
      },
      "source": [
        "def bestOrbitInnerParams(r,s,oppositions):\n",
        "  maxError = 2*360\n",
        "  print(\"Computing: [\",end='')\n",
        "  for c in np.linspace(0,360,25):\n",
        "    print(\"#\",end='')\n",
        "    for z in np.linspace(0,360,25):\n",
        "      for e1 in np.linspace(1,2,20):\n",
        "        x,y = p2c(e1,c)\n",
        "        err,mx = MarsEquantModel(c,r,x,y,z,s,oppositions)\n",
        "        if(mx < maxError):\n",
        "          _c,_r,_z,_errors,maxError = c,r,z,err,mx\n",
        "          _e1,_e2 = p2c(e1,c)\n",
        "  print(\"]\")\n",
        "  #res = op.minimize(fun=obj,x0=[_c,r,_e1,_e2,_z,s],args=oppositions,bounds=[(0,360),(r,r),(-2,2),(-2,2),(0,360),(s,s)])\n",
        "  #c,r,e1,e2,z,s = res.x\n",
        "  c,r,e1,e2,z,s = _c,_r,_e1,_e2,_z,s\n",
        "  errors,maxError = MarsEquantModel(c,r,e1,e2,z,s,oppositions)\n",
        "  return c,e1,e2,z,errors,maxError\n"
      ],
      "execution_count": 17,
      "outputs": []
    },
    {
      "cell_type": "markdown",
      "metadata": {
        "id": "EUOP5TGVCuah"
      },
      "source": [
        "#3. BestS"
      ]
    },
    {
      "cell_type": "code",
      "metadata": {
        "id": "5SNsXMT8DD4b"
      },
      "source": [
        "def bestS(r,oppositions):\n",
        "  maxError = 720\n",
        "  sgood = 360/687\n",
        "  print(\"BestS :\")\n",
        "  iter=1\n",
        "  for s in np.linspace(360/(687+0.1),360/(687-0.1),5):\n",
        "    print(f'{iter:2}: ',end='')\n",
        "    iter+=1\n",
        "    _c,_e1,_e2,_z,_errors,_maxError = bestOrbitInnerParams(r,s,oppositions)\n",
        "    if maxError > _maxError:\n",
        "      c,e1,e2,z,errors,maxError=_c,_e1,_e2,_z,_errors,_maxError\n",
        "      sgood = s\n",
        "  print(\"]\")\n",
        "  #optimizing in the neighbourhood of c,e1,e2,z,s\n",
        "  res = op.minimize(fun=obj,x0=[c,r,e1,e2,z,sgood],args=oppositions,bounds=[(0,360),(r,r),(-2,2),(-2,2),(0,360),(sgood-0.001,sgood+0.001)])\n",
        "  c,r,e1,e2,z,s = res.x\n",
        "  errors,maxError = MarsEquantModel(c,r,e1,e2,z,s,oppositions)\n",
        "  return s,errors,maxError"
      ],
      "execution_count": 18,
      "outputs": []
    },
    {
      "cell_type": "markdown",
      "metadata": {
        "id": "9gl5ewNlR9DB"
      },
      "source": [
        "#4. BestR"
      ]
    },
    {
      "cell_type": "code",
      "metadata": {
        "id": "TH2cEuNaR8tT"
      },
      "source": [
        "def bestR(s,oppositions):\n",
        "  maxError = 720\n",
        "  rgood = 9\n",
        "  print(\"BestR :\")\n",
        "  iter=1\n",
        "  for r in np.linspace(9,10,10):\n",
        "    print(f'{iter:2}: ',end='')\n",
        "    iter+=1\n",
        "    _c,_e1,_e2,_z,_errors,_maxError = bestOrbitInnerParams(r,s,oppositions)\n",
        "    if maxError > _maxError:\n",
        "      c,e1,e2,z,errors,maxError=_c,_e1,_e2,_z,_errors,_maxError\n",
        "      rgood = r\n",
        "  print(\"]\")\n",
        "  #optimizing in the neighbourhood of c,r,e1,e2,z\n",
        "  res = op.minimize(fun=obj,x0=[c,rgood,e1,e2,z,s],args=oppositions,bounds=[(0,360),(rgood-0.01,rgood+0.01),(-2,2),(-2,2),(0,360),(s,s)])\n",
        "  c,r,e1,e2,z,s = res.x\n",
        "  errors,maxError = MarsEquantModel(c,r,e1,e2,z,s,oppositions)\n",
        "  return r,errors,maxError"
      ],
      "execution_count": 19,
      "outputs": []
    },
    {
      "cell_type": "markdown",
      "metadata": {
        "id": "B57IjAKNtEFn"
      },
      "source": [
        "#5. BestMarsOrbitParams"
      ]
    },
    {
      "cell_type": "code",
      "metadata": {
        "id": "RrMkyeNvtP3f"
      },
      "source": [
        "def bestMarsOrbitParams(oppositions):\n",
        "  s,er,emax = bestS(9,oppositions)\n",
        "  r,er,emax = bestR(s,oppositions) \n",
        " \n",
        "  c,e1,e2,z,errors,maxError = bestOrbitInnerParams(r,s,oppositions)\n",
        "  res = op.minimize(fun=obj,x0=[c,r,e1,e2,z,s],args=oppositions,bounds=[(0,360),(r-0.01,r+0.01),(-2,2),(-2,2),(0,360),(s,s)])\n",
        "  c,r,e1,e2,z,s = res.x\n",
        "  plot(c,r,e1,e2,z,s,oppositions)\n",
        "  print([e1,e2])\n",
        "  e1,e2 = c2p(e1,e2)\n",
        "  return r,s,c,e1,e2+180-z,z,er,emax"
      ],
      "execution_count": 20,
      "outputs": []
    },
    {
      "cell_type": "code",
      "metadata": {
        "id": "yKg93rdjvG0e",
        "colab": {
          "base_uri": "https://localhost:8080/",
          "height": 792
        },
        "outputId": "fe413895-8fac-4a5d-9566-328b00bfcbc4"
      },
      "source": [
        "bestMarsOrbitParams(oppositions)"
      ],
      "execution_count": 21,
      "outputs": [
        {
          "output_type": "stream",
          "text": [
            "BestS :\n",
            " 1: Computing: [#########################]\n",
            " 2: Computing: [#########################]\n",
            " 3: Computing: [#########################]\n",
            " 4: Computing: [#########################]\n",
            " 5: Computing: [#########################]\n",
            "]\n",
            "BestR :\n",
            " 1: Computing: [#########################]\n",
            " 2: Computing: [#########################]\n",
            " 3: Computing: [#########################]\n",
            " 4: Computing: [#########################]\n",
            " 5: Computing: [#########################]\n",
            " 6: Computing: [#########################]\n",
            " 7: Computing: [#########################]\n",
            " 8: Computing: [#########################]\n",
            " 9: Computing: [#########################]\n",
            "10: Computing: [#########################]\n",
            "]\n",
            "Computing: [#########################]\n"
          ],
          "name": "stdout"
        },
        {
          "output_type": "display_data",
          "data": {
            "image/png": "[encoded data removed]",
            "text/plain": [
              "<Figure size 432x288 with 1 Axes>"
            ]
          },
          "metadata": {
            "needs_background": "light"
          }
        },
        {
          "output_type": "stream",
          "text": [
            "[-1.4669017565882871, 0.946670578807614]\n"
          ],
          "name": "stdout"
        },
        {
          "output_type": "execute_result",
          "data": {
            "text/plain": [
              "(9.332937567343524,\n",
              " 0.5240211113452538,\n",
              " 149.95222390128592,\n",
              " 1.7458482030983522,\n",
              " 91.00172612193691,\n",
              " 56.16194572349858,\n",
              " array([0.33630029, 0.10489756, 0.33626191, 0.22312366, 0.06732136,\n",
              "        0.33629662, 0.24473428, 0.06197764, 0.33630029, 0.32851109,\n",
              "        0.19987776, 0.12175422]),\n",
              " 0.3363002884577881)"
            ]
          },
          "metadata": {},
          "execution_count": 21
        }
      ]
    },
    {
      "cell_type": "code",
      "metadata": {
        "id": "s8gTSuU_MsRz"
      },
      "source": [
        ""
      ],
      "execution_count": 21,
      "outputs": []
    }
  ]
}